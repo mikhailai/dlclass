{
 "cells": [
  {
   "cell_type": "code",
   "execution_count": null,
   "metadata": {},
   "outputs": [],
   "source": [
    "import numpy as np\n",
    "import matplotlib.pyplot as plt\n",
    "\n",
    "# This is a bit of magic to make matplotlib figures appear inline in the notebook\n",
    "# rather than in a new window.\n",
    "%matplotlib inline\n",
    "plt.rcParams['figure.figsize'] = (10.0, 8.0) # set default size of plots\n",
    "plt.rcParams['image.interpolation'] = 'nearest'\n",
    "plt.rcParams['image.cmap'] = 'gray'\n",
    "\n",
    "# Some more magic so that the notebook will reload external python modules;\n",
    "# see http://stackoverflow.com/questions/1907993/autoreload-of-modules-in-ipython\n",
    "%load_ext autoreload\n",
    "%autoreload 2"
   ]
  },
  {
   "cell_type": "code",
   "execution_count": null,
   "metadata": {},
   "outputs": [],
   "source": [
    "import dataset\n",
    "\n",
    "prostate_whole_dataset = dataset.ProstatDS(\"dataset/prostate.txt\")"
   ]
  },
  {
   "cell_type": "code",
   "execution_count": null,
   "metadata": {},
   "outputs": [],
   "source": [
    "test, val, train = dataset.dataset_split(prostate_whole_dataset, [0.2, 0.1])\n",
    "train.normalize()\n",
    "val.normalize(train.norm_values)\n",
    "_ = test.normalize(train.norm_values)"
   ]
  },
  {
   "cell_type": "markdown",
   "metadata": {},
   "source": [
    "# Gradient Check"
   ]
  },
  {
   "cell_type": "code",
   "execution_count": null,
   "metadata": {},
   "outputs": [],
   "source": [
    "from gradient_check import eval_numeric_gradient\n",
    "from gradient_check import rel_error\n",
    "import models\n",
    "\n",
    "sample, _ = dataset.dataset_split(train, 40.0 / train.num_samples)\n",
    "X = sample.X.astype(\"float64\")\n",
    "\n",
    "for reg in [0, 0.1]:\n",
    "  model = models.TwoLayerNet(train.num_features, 20, reg=reg)\n",
    "  \n",
    "  # Post-initialization: Make the 'b' params random values as well:\n",
    "  for key in model.params.keys():\n",
    "    p = model.params[key].astype(\"float64\")\n",
    "    if key.startswith('b'):\n",
    "      p = 0.01 * np.random.randn(*p.shape)\n",
    "    model.params[key] = p\n",
    "  print(\"Testing with reg=%.2e:\" % reg)\n",
    "\n",
    "  for key in model.params.keys():\n",
    "    f = lambda : model.loss(X, sample.y)[0]\n",
    "    grad_n = eval_numeric_gradient(f, model.params[key])\n",
    "    grad_a = model.loss(sample.X, sample.y)[1][key]\n",
    "    error = rel_error(grad_n, grad_a)\n",
    "    print(\"%s, error=%.1e\" % (key, error))\n"
   ]
  },
  {
   "cell_type": "code",
   "execution_count": null,
   "metadata": {},
   "outputs": [],
   "source": [
    "def accuracy(model):\n",
    "  y_train = model.loss(train.X)\n",
    "  acc_train = np.mean(y_train == train.y)\n",
    "  y_val = model.loss(val.X)\n",
    "  acc_val = np.mean(y_val == val.y)\n",
    "  print(\"Accuracy: Training = %.1f%%, Validation = %.1f%%\" % (acc_train * 100, acc_val * 100))"
   ]
  },
  {
   "cell_type": "code",
   "execution_count": null,
   "metadata": {},
   "outputs": [],
   "source": [
    "H = 18\n",
    "reg = 1e-5\n",
    "learning_rate = 3\n",
    "learning_rate_decay = 0.99\n",
    "model = models.TwoLayerNet(train.num_features, H, reg=reg)\n",
    "\n",
    "for i in range(300):\n",
    "  loss, grad = model.loss(train.X, train.y)\n",
    "  for key in grad.keys():\n",
    "    model.params[key] -= learning_rate * grad[key]\n",
    "  if i % 10 == 0:\n",
    "    learning_rate *= learning_rate_decay\n",
    "  if i % 10 == 0:\n",
    "    print(\"[%4d]: loss=%f\" % (i, loss))\n",
    "    accuracy(model)\n",
    "  \n"
   ]
  },
  {
   "cell_type": "code",
   "execution_count": null,
   "metadata": {},
   "outputs": [],
   "source": [
    "y_pred = model.loss(test.X)\n",
    "print(\"Test Accuracy: %.2f%%\" % (np.mean(y_pred == test.y)))"
   ]
  },
  {
   "cell_type": "code",
   "execution_count": null,
   "metadata": {},
   "outputs": [],
   "source": []
  }
 ],
 "metadata": {
  "kernelspec": {
   "display_name": "Python 3",
   "language": "python",
   "name": "python3"
  },
  "language_info": {
   "codemirror_mode": {
    "name": "ipython",
    "version": 3
   },
   "file_extension": ".py",
   "mimetype": "text/x-python",
   "name": "python",
   "nbconvert_exporter": "python",
   "pygments_lexer": "ipython3",
   "version": "3.6.4"
  }
 },
 "nbformat": 4,
 "nbformat_minor": 2
}
